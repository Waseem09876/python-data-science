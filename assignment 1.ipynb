{
 "cells": [
  {
   "cell_type": "code",
   "execution_count": 1,
   "id": "45c924ea",
   "metadata": {},
   "outputs": [
    {
     "name": "stdout",
     "output_type": "stream",
     "text": [
      "twinkel twiinkel littel star,\n",
      "\t How i wonder what you are!\n",
      "\t\t up above word so high,\n",
      "\t\tlike a diamond in the sky.\n",
      " twinkel twiinkel littel star,\n",
      "\tHow i wonder what you are\n"
     ]
    }
   ],
   "source": [
    "#question1\n",
    "print (\"twinkel twiinkel littel star,\\n\\t How i wonder what you are!\\n\\t\\t up above word so high,\\n\\t\\tlike a diamond in the sky.\\n twinkel twiinkel littel star,\\n\\tHow i wonder what you are\")"
   ]
  },
  {
   "cell_type": "code",
   "execution_count": 45,
   "id": "efb86109",
   "metadata": {},
   "outputs": [
    {
     "name": "stdout",
     "output_type": "stream",
     "text": [
      "3.9.7 (default, Sep 16 2021, 16:59:28) [MSC v.1916 64 bit (AMD64)]\n"
     ]
    }
   ],
   "source": [
    "#question2\n",
    "import sys\n",
    "print (sys.version)"
   ]
  },
  {
   "cell_type": "code",
   "execution_count": 1,
   "id": "2d631311",
   "metadata": {},
   "outputs": [
    {
     "name": "stdout",
     "output_type": "stream",
     "text": [
      "2022-01-01 10:30:27.605833\n"
     ]
    }
   ],
   "source": [
    "#question3\n",
    "from datetime import datetime\n",
    "time=datetime.now()\n",
    "print(time)"
   ]
  },
  {
   "cell_type": "code",
   "execution_count": 3,
   "id": "64d7f020",
   "metadata": {},
   "outputs": [
    {
     "name": "stdout",
     "output_type": "stream",
     "text": [
      "90\n"
     ]
    }
   ],
   "source": [
    "#question6\n",
    "a=30\n",
    "b=60\n",
    "print(a+b)"
   ]
  },
  {
   "cell_type": "code",
   "execution_count": 13,
   "id": "cccca818",
   "metadata": {},
   "outputs": [
    {
     "name": "stdout",
     "output_type": "stream",
     "text": [
      "enter first name:Muhammad\n",
      "enter last name:Waseem\n",
      "Muhammad Waseem\n"
     ]
    }
   ],
   "source": [
    "#Question#5 example\n",
    "fname=input(\"enter first name:\")\n",
    "lname=input(\"enter last name:\")\n",
    "fullname=(fname+\" \"+lname)\n",
    "print(fullname)"
   ]
  },
  {
   "cell_type": "code",
   "execution_count": 17,
   "id": "afcc7e60",
   "metadata": {},
   "outputs": [
    {
     "name": "stdout",
     "output_type": "stream",
     "text": [
      "enter first name:Muhammad\n",
      "enter last name:Waseem\n",
      "Muhammad meesaW\n"
     ]
    }
   ],
   "source": [
    "#Question#5\n",
    "fname=input(\"enter first name:\")\n",
    "lname=input(\"enter last name:\")\n",
    "fullname=(fname+\" \"+lname[::-1])\n",
    "print(fullname)"
   ]
  },
  {
   "cell_type": "code",
   "execution_count": null,
   "id": "5d4bd8b7",
   "metadata": {},
   "outputs": [],
   "source": []
  },
  {
   "cell_type": "code",
   "execution_count": null,
   "id": "684cf095",
   "metadata": {},
   "outputs": [],
   "source": []
  },
  {
   "cell_type": "code",
   "execution_count": null,
   "id": "72013aaa",
   "metadata": {},
   "outputs": [],
   "source": []
  },
  {
   "cell_type": "code",
   "execution_count": null,
   "id": "0d41dfa8",
   "metadata": {},
   "outputs": [],
   "source": []
  }
 ],
 "metadata": {
  "kernelspec": {
   "display_name": "Python 3 (ipykernel)",
   "language": "python",
   "name": "python3"
  },
  "language_info": {
   "codemirror_mode": {
    "name": "ipython",
    "version": 3
   },
   "file_extension": ".py",
   "mimetype": "text/x-python",
   "name": "python",
   "nbconvert_exporter": "python",
   "pygments_lexer": "ipython3",
   "version": "3.9.7"
  }
 },
 "nbformat": 4,
 "nbformat_minor": 5
}
